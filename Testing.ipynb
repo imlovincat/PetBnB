{
 "cells": [
  {
   "cell_type": "code",
   "execution_count": 3,
   "metadata": {},
   "outputs": [],
   "source": [
    "import app"
   ]
  },
  {
   "cell_type": "code",
   "execution_count": 1,
   "metadata": {},
   "outputs": [],
   "source": [
    "import DBcm"
   ]
  },
  {
   "cell_type": "code",
   "execution_count": 4,
   "metadata": {},
   "outputs": [],
   "source": [
    "from data_utils import *"
   ]
  },
  {
   "cell_type": "code",
   "execution_count": 2,
   "metadata": {},
   "outputs": [],
   "source": [
    "connection = {\n",
    "    'host': 'localhost',\n",
    "    'user': 'root',\n",
    "    'password': '123456',\n",
    "    'database': 'petbnb'\n",
    "}"
   ]
  },
  {
   "cell_type": "code",
   "execution_count": 22,
   "metadata": {
    "scrolled": false
   },
   "outputs": [
    {
     "data": {
      "text/plain": [
       "'123456'"
      ]
     },
     "execution_count": 22,
     "metadata": {},
     "output_type": "execute_result"
    }
   ],
   "source": [
    "connection[\"password\"] "
   ]
  },
  {
   "cell_type": "code",
   "execution_count": 12,
   "metadata": {
    "scrolled": true
   },
   "outputs": [
    {
     "data": {
      "text/plain": [
       "{'host': 'localhost',\n",
       " 'user': 'root',\n",
       " 'password': '123456',\n",
       " 'database': 'petbnb'}"
      ]
     },
     "execution_count": 12,
     "metadata": {},
     "output_type": "execute_result"
    }
   ],
   "source": [
    "connection"
   ]
  },
  {
   "cell_type": "code",
   "execution_count": 14,
   "metadata": {},
   "outputs": [],
   "source": [
    "with DBcm.UseDatabase(connection) as cursor:\n",
    "    SQL = \"show tables\"\n",
    "    cursor.execute(SQL)\n",
    "    data = cursor.fetchall()"
   ]
  },
  {
   "cell_type": "code",
   "execution_count": 15,
   "metadata": {},
   "outputs": [
    {
     "data": {
      "text/plain": [
       "[('customer',)]"
      ]
     },
     "execution_count": 15,
     "metadata": {},
     "output_type": "execute_result"
    }
   ],
   "source": [
    "data"
   ]
  },
  {
   "cell_type": "code",
   "execution_count": 16,
   "metadata": {},
   "outputs": [],
   "source": [
    "with DBcm.UseDatabase(connection) as cursor:\n",
    "    SQL = \"describe customer\"\n",
    "    cursor.execute(SQL)\n",
    "    data = cursor.fetchall()"
   ]
  },
  {
   "cell_type": "code",
   "execution_count": 17,
   "metadata": {},
   "outputs": [
    {
     "data": {
      "text/plain": [
       "[('id', b'int(11)', 'NO', 'PRI', None, 'auto_increment'),\n",
       " ('email', b'varchar(50)', 'YES', '', None, ''),\n",
       " ('password', b'varchar(16)', 'YES', '', None, '')]"
      ]
     },
     "execution_count": 17,
     "metadata": {},
     "output_type": "execute_result"
    }
   ],
   "source": [
    "data"
   ]
  },
  {
   "cell_type": "code",
   "execution_count": 10,
   "metadata": {},
   "outputs": [],
   "source": [
    "with DBcm.UseDatabase(connection) as cursor:\n",
    "    SQL = \"select * from customer\"\n",
    "    cursor.execute(SQL)\n",
    "    data = cursor.fetchall()"
   ]
  },
  {
   "cell_type": "code",
   "execution_count": 12,
   "metadata": {},
   "outputs": [
    {
     "data": {
      "text/plain": [
       "[(1, 'c00223421@itcarlow.ie', '123456'),\n",
       " (2, 'imlovincat@gmail.com', '123456'),\n",
       " (3, '123@123.com', '123456'),\n",
       " (4, '456@123.com', '123456'),\n",
       " (5, 'test1@123.com', '123456'),\n",
       " (6, 'test3@123.com', '123'),\n",
       " (7, 'test2@123.com', '123456'),\n",
       " (8, 'test5@123.com', '123456'),\n",
       " (9, '345@dfads.com', '123456')]"
      ]
     },
     "execution_count": 12,
     "metadata": {},
     "output_type": "execute_result"
    }
   ],
   "source": [
    "data"
   ]
  },
  {
   "cell_type": "code",
   "execution_count": 8,
   "metadata": {
    "scrolled": true
   },
   "outputs": [],
   "source": [
    "for row in data:\n",
    "    print(row)"
   ]
  },
  {
   "cell_type": "code",
   "execution_count": 9,
   "metadata": {},
   "outputs": [
    {
     "data": {
      "text/plain": [
       "0"
      ]
     },
     "execution_count": 9,
     "metadata": {},
     "output_type": "execute_result"
    }
   ],
   "source": [
    "len(data)"
   ]
  },
  {
   "cell_type": "code",
   "execution_count": 6,
   "metadata": {},
   "outputs": [],
   "source": [
    "with DBcm.UseDatabase(connection) as cursor:\n",
    "    SQL = \"SELECT id,email FROM customer WHERE email = '666@666.com' AND password = '666666'\"\n",
    "    cursor.execute(SQL)\n",
    "    data = cursor.fetchall()"
   ]
  },
  {
   "cell_type": "code",
   "execution_count": 7,
   "metadata": {},
   "outputs": [
    {
     "data": {
      "text/plain": [
       "list"
      ]
     },
     "execution_count": 7,
     "metadata": {},
     "output_type": "execute_result"
    }
   ],
   "source": [
    "type(data)"
   ]
  },
  {
   "cell_type": "code",
   "execution_count": 77,
   "metadata": {
    "scrolled": true
   },
   "outputs": [
    {
     "data": {
      "text/plain": [
       "1"
      ]
     },
     "execution_count": 77,
     "metadata": {},
     "output_type": "execute_result"
    }
   ],
   "source": [
    "len(data)"
   ]
  },
  {
   "cell_type": "code",
   "execution_count": 24,
   "metadata": {},
   "outputs": [],
   "source": [
    "with DBcm.UseDatabase(connection) as cursor:\n",
    "    SQL = \"insert into petsitter (customerid, petsittername) values ('1','tester2')\"\n",
    "    cursor.execute(SQL)"
   ]
  },
  {
   "cell_type": "code",
   "execution_count": 50,
   "metadata": {},
   "outputs": [],
   "source": [
    "with DBcm.UseDatabase(connection) as cursor:\n",
    "    SQL = \"\"\"SELECT id FROM customer WHERE email = %s\"\"\"\n",
    "    cursor.execute(SQL, ('123@123.com',),)\n",
    "    return_data = cursor.fetchall()"
   ]
  },
  {
   "cell_type": "code",
   "execution_count": 51,
   "metadata": {},
   "outputs": [
    {
     "name": "stdout",
     "output_type": "stream",
     "text": [
      "(3,)\n"
     ]
    }
   ],
   "source": [
    "print(return_data[0])"
   ]
  },
  {
   "cell_type": "code",
   "execution_count": 52,
   "metadata": {},
   "outputs": [
    {
     "name": "stdout",
     "output_type": "stream",
     "text": [
      "3\n"
     ]
    }
   ],
   "source": [
    "print(return_data[0][0])"
   ]
  },
  {
   "cell_type": "code",
   "execution_count": 90,
   "metadata": {},
   "outputs": [],
   "source": [
    "with DBcm.UseDatabase(connection) as cursor:\n",
    "    SQL = \"\"\"SELECT * FROM petsitter WHERE petsittername LIKE %s AND city = \"ireland\" \"\"\"\n",
    "    cursor.execute(SQL, (('%' + 'test' + '%'),),)\n",
    "    return_data = cursor.fetchall()"
   ]
  },
  {
   "cell_type": "code",
   "execution_count": 91,
   "metadata": {
    "scrolled": true
   },
   "outputs": [
    {
     "data": {
      "text/plain": [
       "[]"
      ]
     },
     "execution_count": 91,
     "metadata": {},
     "output_type": "execute_result"
    }
   ],
   "source": [
    "return_data"
   ]
  },
  {
   "cell_type": "code",
   "execution_count": 110,
   "metadata": {},
   "outputs": [],
   "source": [
    "with DBcm.UseDatabase(connection) as cursor:\n",
    "    SQL = \"\"\"SELECT * FROM petsitter\n",
    "            WHERE CONCAT(petsittername,country,city,town) LIKE %s\"\"\"\n",
    "    cursor.execute(SQL, (('%' + 'e' + '%'),),)\n",
    "    return_data = cursor.fetchall()"
   ]
  },
  {
   "cell_type": "code",
   "execution_count": 111,
   "metadata": {},
   "outputs": [
    {
     "data": {
      "text/plain": [
       "[(6,\n",
       "  3,\n",
       "  'tester4',\n",
       "  '',\n",
       "  '',\n",
       "  'ireland',\n",
       "  '',\n",
       "  '',\n",
       "  '',\n",
       "  '',\n",
       "  0,\n",
       "  '',\n",
       "  '',\n",
       "  'apartment',\n",
       "  'none',\n",
       "  0),\n",
       " (7,\n",
       "  3,\n",
       "  'tester5',\n",
       "  '456@123.com',\n",
       "  '123456',\n",
       "  'ireland',\n",
       "  'carlow',\n",
       "  'carlow town',\n",
       "  'something',\n",
       "  \"['accommodation', 'dogwalking', 'daycare']\",\n",
       "  1,\n",
       "  \"['dog', 'cat']\",\n",
       "  \"['1-5kg', '6-10kg', '11-20kg']\",\n",
       "  'detached',\n",
       "  'small',\n",
       "  1)]"
      ]
     },
     "execution_count": 111,
     "metadata": {},
     "output_type": "execute_result"
    }
   ],
   "source": [
    "return_data"
   ]
  },
  {
   "cell_type": "code",
   "execution_count": 112,
   "metadata": {},
   "outputs": [],
   "source": [
    "with DBcm.UseDatabase(connection) as cursor:\n",
    "    SQL = \"\"\"SELECT * FROM petsitter\n",
    "            WHERE CONCAT(petsittername,country,city,town) LIKE %s\n",
    "            \"\"\"\n",
    "    cursor.execute(SQL, (('%' + 'e' + '%'),),)\n",
    "    return_data = cursor.fetchall()"
   ]
  },
  {
   "cell_type": "code",
   "execution_count": 115,
   "metadata": {},
   "outputs": [
    {
     "name": "stdout",
     "output_type": "stream",
     "text": [
      "[(6, 3, 'tester4', '', '', 'ireland', '', '', '', '', 0, '', '', 'apartment', 'none', 0), (7, 3, 'tester5', '456@123.com', '123456', 'ireland', 'carlow', 'carlow town', 'something', \"['accommodation', 'dogwalking', 'daycare']\", 1, \"['dog', 'cat']\", \"['1-5kg', '6-10kg', '11-20kg']\", 'detached', 'small', 1)]\n"
     ]
    }
   ],
   "source": [
    "print(return_data)"
   ]
  },
  {
   "cell_type": "code",
   "execution_count": 116,
   "metadata": {},
   "outputs": [
    {
     "data": {
      "text/plain": [
       "2"
      ]
     },
     "execution_count": 116,
     "metadata": {},
     "output_type": "execute_result"
    }
   ],
   "source": [
    "len(return_data)"
   ]
  },
  {
   "cell_type": "code",
   "execution_count": 117,
   "metadata": {},
   "outputs": [
    {
     "data": {
      "text/plain": [
       "list"
      ]
     },
     "execution_count": 117,
     "metadata": {},
     "output_type": "execute_result"
    }
   ],
   "source": [
    "type(return_data)"
   ]
  },
  {
   "cell_type": "code",
   "execution_count": 118,
   "metadata": {},
   "outputs": [],
   "source": [
    "customerid = 1"
   ]
  },
  {
   "cell_type": "code",
   "execution_count": 143,
   "metadata": {},
   "outputs": [],
   "source": [
    "petsittername = \"Tester1\""
   ]
  },
  {
   "cell_type": "code",
   "execution_count": 120,
   "metadata": {},
   "outputs": [],
   "source": [
    "email = \"example@123\""
   ]
  },
  {
   "cell_type": "code",
   "execution_count": 121,
   "metadata": {},
   "outputs": [],
   "source": [
    "phone = \"123456\""
   ]
  },
  {
   "cell_type": "code",
   "execution_count": 122,
   "metadata": {},
   "outputs": [],
   "source": [
    "country = \"Ireland\""
   ]
  },
  {
   "cell_type": "code",
   "execution_count": 123,
   "metadata": {},
   "outputs": [],
   "source": [
    "city = \"Carlow\""
   ]
  },
  {
   "cell_type": "code",
   "execution_count": 124,
   "metadata": {},
   "outputs": [],
   "source": [
    "town = \"Carlow Town\""
   ]
  },
  {
   "cell_type": "code",
   "execution_count": 125,
   "metadata": {},
   "outputs": [],
   "source": [
    "address = \"6 Green Road\""
   ]
  },
  {
   "cell_type": "code",
   "execution_count": 126,
   "metadata": {},
   "outputs": [],
   "source": [
    "description =\"say something\""
   ]
  },
  {
   "cell_type": "code",
   "execution_count": 127,
   "metadata": {},
   "outputs": [],
   "source": [
    "price = 15"
   ]
  },
  {
   "cell_type": "code",
   "execution_count": 146,
   "metadata": {},
   "outputs": [],
   "source": [
    "petservice = \"['Pet Accommondation',]\""
   ]
  },
  {
   "cell_type": "code",
   "execution_count": 134,
   "metadata": {},
   "outputs": [],
   "source": [
    "petnums = 4"
   ]
  },
  {
   "cell_type": "code",
   "execution_count": 147,
   "metadata": {},
   "outputs": [],
   "source": [
    "pettype = \"['Dog','Cat']\""
   ]
  },
  {
   "cell_type": "code",
   "execution_count": 148,
   "metadata": {},
   "outputs": [],
   "source": [
    "petsize = \"['1-5kg']\""
   ]
  },
  {
   "cell_type": "code",
   "execution_count": 137,
   "metadata": {},
   "outputs": [],
   "source": [
    "housetype = \"Apartment\""
   ]
  },
  {
   "cell_type": "code",
   "execution_count": 138,
   "metadata": {},
   "outputs": [],
   "source": [
    "outdoor = \"none\""
   ]
  },
  {
   "cell_type": "code",
   "execution_count": 139,
   "metadata": {},
   "outputs": [],
   "source": [
    "transport = 1"
   ]
  },
  {
   "cell_type": "code",
   "execution_count": null,
   "metadata": {},
   "outputs": [],
   "source": []
  },
  {
   "cell_type": "code",
   "execution_count": 149,
   "metadata": {},
   "outputs": [],
   "source": [
    "with DBcm.UseDatabase(connection) as cursor:\n",
    "            SQL = \"\"\" INSERT INTO petsitter (\n",
    "                      customerid,\n",
    "                      petsittername,\n",
    "                      email,\n",
    "                      phone,\n",
    "                      country,\n",
    "                      city,\n",
    "                      town,\n",
    "                      address,\n",
    "                      description,\n",
    "                      price,\n",
    "                      petservice,\n",
    "                      petnums,\n",
    "                      pettype,\n",
    "                      petsize,\n",
    "                      housetype,\n",
    "                      outdoor,\n",
    "                      transport,\n",
    "                      deleteflag\n",
    "                      ) VALUES (%s, %s, %s, %s, %s, %s, %s, %s, %s, %s, %s, %s, %s, %s, %s, %s, %s, 0) \"\"\"\n",
    "            cursor.execute(SQL, (\n",
    "                                customerid,\n",
    "                                petsittername,\n",
    "                                email,\n",
    "                                phone,\n",
    "                                country,\n",
    "                                city,\n",
    "                                town,\n",
    "                                address,\n",
    "                                description,\n",
    "                                price,\n",
    "                                petservice,\n",
    "                                petnums,\n",
    "                                pettype,\n",
    "                                petsize,\n",
    "                                housetype,\n",
    "                                outdoor,\n",
    "                                transport),)"
   ]
  },
  {
   "cell_type": "code",
   "execution_count": 150,
   "metadata": {},
   "outputs": [],
   "source": [
    "location = \"green\""
   ]
  },
  {
   "cell_type": "code",
   "execution_count": 151,
   "metadata": {},
   "outputs": [],
   "source": [
    "with DBcm.UseDatabase(connection) as cursor:\n",
    "        SQL = \"\"\"SELECT * FROM petsitter\n",
    "                WHERE CONCAT(petsittername,country,city,town,address) LIKE %s\n",
    "                \"\"\"\n",
    "        cursor.execute(SQL, (('%' + location + '%'),),)\n",
    "        return_data = cursor.fetchall()"
   ]
  },
  {
   "cell_type": "code",
   "execution_count": 152,
   "metadata": {},
   "outputs": [
    {
     "data": {
      "text/plain": [
       "[(1,\n",
       "  1,\n",
       "  'Tester1',\n",
       "  'example@123',\n",
       "  '123456',\n",
       "  'Ireland',\n",
       "  'Carlow',\n",
       "  'Carlow Town',\n",
       "  '6 Green Road',\n",
       "  'say something',\n",
       "  15,\n",
       "  \"['Pet Accommondation',]\",\n",
       "  4,\n",
       "  \"['Dog','Cat']\",\n",
       "  \"['1-5kg']\",\n",
       "  'Apartment',\n",
       "  'none',\n",
       "  1,\n",
       "  0)]"
      ]
     },
     "execution_count": 152,
     "metadata": {},
     "output_type": "execute_result"
    }
   ],
   "source": [
    "return_data"
   ]
  },
  {
   "cell_type": "code",
   "execution_count": 162,
   "metadata": {
    "scrolled": true
   },
   "outputs": [
    {
     "data": {
      "text/plain": [
       "1"
      ]
     },
     "execution_count": 162,
     "metadata": {},
     "output_type": "execute_result"
    }
   ],
   "source": [
    "len(return_data)"
   ]
  },
  {
   "cell_type": "code",
   "execution_count": 172,
   "metadata": {},
   "outputs": [],
   "source": [
    "from django.core.paginator import Paginator"
   ]
  },
  {
   "cell_type": "code",
   "execution_count": 173,
   "metadata": {},
   "outputs": [],
   "source": [
    "objects = ['john', 'paul', 'george', 'ringo']"
   ]
  },
  {
   "cell_type": "code",
   "execution_count": 174,
   "metadata": {},
   "outputs": [],
   "source": [
    "p = Paginator(objects, 2)"
   ]
  },
  {
   "cell_type": "code",
   "execution_count": 175,
   "metadata": {},
   "outputs": [
    {
     "data": {
      "text/plain": [
       "4"
      ]
     },
     "execution_count": 175,
     "metadata": {},
     "output_type": "execute_result"
    }
   ],
   "source": [
    "p.count"
   ]
  },
  {
   "cell_type": "code",
   "execution_count": 176,
   "metadata": {},
   "outputs": [
    {
     "data": {
      "text/plain": [
       "range"
      ]
     },
     "execution_count": 176,
     "metadata": {},
     "output_type": "execute_result"
    }
   ],
   "source": [
    "type(p.page_range)"
   ]
  },
  {
   "cell_type": "code",
   "execution_count": 177,
   "metadata": {
    "scrolled": true
   },
   "outputs": [
    {
     "data": {
      "text/plain": [
       "range(1, 3)"
      ]
     },
     "execution_count": 177,
     "metadata": {},
     "output_type": "execute_result"
    }
   ],
   "source": [
    "p.page_range"
   ]
  },
  {
   "cell_type": "code",
   "execution_count": 179,
   "metadata": {},
   "outputs": [],
   "source": [
    "page1 = p.page(1)"
   ]
  },
  {
   "cell_type": "code",
   "execution_count": 180,
   "metadata": {},
   "outputs": [
    {
     "data": {
      "text/plain": [
       "<Page 1 of 2>"
      ]
     },
     "execution_count": 180,
     "metadata": {},
     "output_type": "execute_result"
    }
   ],
   "source": [
    "page1"
   ]
  },
  {
   "cell_type": "code",
   "execution_count": 181,
   "metadata": {},
   "outputs": [
    {
     "data": {
      "text/plain": [
       "['john', 'paul']"
      ]
     },
     "execution_count": 181,
     "metadata": {},
     "output_type": "execute_result"
    }
   ],
   "source": [
    "page1.object_list"
   ]
  },
  {
   "cell_type": "code",
   "execution_count": 208,
   "metadata": {},
   "outputs": [],
   "source": [
    "with DBcm.UseDatabase(connection) as cursor:\n",
    "        SQL = \"\"\"SELECT * FROM petsitter\n",
    "                WHERE CONCAT(petsittername,country,city,town,address) LIKE %s\n",
    "                \"\"\"\n",
    "        cursor.execute(SQL, (('%' + \"dublin\" + '%'),),)\n",
    "        data = cursor.fetchall()"
   ]
  },
  {
   "cell_type": "code",
   "execution_count": 209,
   "metadata": {},
   "outputs": [
    {
     "data": {
      "text/plain": [
       "[(3,\n",
       "  3,\n",
       "  'Citywest Pet Boarding/sitting',\n",
       "  'citywest@petbnb',\n",
       "  '0897784213',\n",
       "  'ireland',\n",
       "  'Dublin',\n",
       "  'Dublin 14',\n",
       "  '9 Oakdown Rd',\n",
       "  \"I have been an animal lover from an early age and I grew up surrounded by pets.\\r\\nI don't own pets currently.\\r\\nI am a college student and because of covid I'll be spending the majority of my time at home where I can provide the TLC your pet deserves.\\r\\nI love spending time with pets, playing, walking, training and taking care of them.\",\n",
       "  10,\n",
       "  '',\n",
       "  2,\n",
       "  \"['dog', 'cat', 'other']\",\n",
       "  \"['1-5kg', '6-10kg']\",\n",
       "  'apartment',\n",
       "  'none',\n",
       "  0,\n",
       "  0),\n",
       " (4,\n",
       "  3,\n",
       "  \"Charlie's Den\",\n",
       "  'charlie@petbnb',\n",
       "  '0861522456',\n",
       "  'ireland',\n",
       "  'Dublin',\n",
       "  'Dublin 11',\n",
       "  '32 Collins Pl, Finglas East',\n",
       "  \"I love animals and have a dog of my own (Charlie Brown). I've grown up with dogs and cant live without them really. I can guarantee that your dog will be well cared for , walked and given the attention they deserve. I want to make them feel right at home here with Charlie while being looked after. Charlie doesn't like cuddles so there's lots of free cuddles to go around for your pet while they're missing you:)\",\n",
       "  20,\n",
       "  \"['dogwalking', 'daycare', 'delivery']\",\n",
       "  4,\n",
       "  \"['dog', 'cat']\",\n",
       "  \"['1-5kg', '6-10kg', '11-20kg', '21-40kg', '41kg+']\",\n",
       "  'detached',\n",
       "  'medium',\n",
       "  1,\n",
       "  0),\n",
       " (7,\n",
       "  3,\n",
       "  \"Joey' S Dog Homecare\",\n",
       "  'joey@petcare',\n",
       "  '0874568845',\n",
       "  'ireland',\n",
       "  'Dublin',\n",
       "  'Lucan',\n",
       "  '8 Elm Way',\n",
       "  'I m a school teacher, so I m home all the time at summer or weekend, after summer I only work in the morning, so I can suply plenty quality time with dogs, walk, free run dog park beside my home. Gardening together, I write for magzine and website, dogs always with me, they free to come in and go out any time they want, dog will be open. I have cctv camera for back garden, even when get out for food shopping, I can see them any where on my phone.',\n",
       "  20,\n",
       "  \"['dogwalking', 'daycare', 'delivery']\",\n",
       "  8,\n",
       "  \"['dog', 'cat']\",\n",
       "  \"['1-5kg', '6-10kg', '11-20kg']\",\n",
       "  'apartment',\n",
       "  'none',\n",
       "  0,\n",
       "  0),\n",
       " (8,\n",
       "  3,\n",
       "  'Small Dog Boarding',\n",
       "  'erika@petcare',\n",
       "  '083445689',\n",
       "  'ireland',\n",
       "  'Dublin',\n",
       "  'Dublin 6',\n",
       "  '48 Leeson Park',\n",
       "  \"I grew up around dogs and I love spending time with them\\r\\nI have a 1 year old Morkie named Cookie, she's a very friendly and kind dog\\r\\nI work from home and can spend quality time with your pet all day. I will walk them, play with them, try and teach some new tricks and will make sure myself and Cookie have a bond with your dog from the very first minute\\r\\nI enjoy spending time with dogs and love when they interact with me\",\n",
       "  15,\n",
       "  \"['dogwalking']\",\n",
       "  0,\n",
       "  \"['dog']\",\n",
       "  \"['1-5kg', '6-10kg']\",\n",
       "  'apartment',\n",
       "  'none',\n",
       "  0,\n",
       "  0)]"
      ]
     },
     "execution_count": 209,
     "metadata": {},
     "output_type": "execute_result"
    }
   ],
   "source": [
    "data"
   ]
  },
  {
   "cell_type": "code",
   "execution_count": 185,
   "metadata": {},
   "outputs": [],
   "source": [
    "p = Paginator(data, 2)"
   ]
  },
  {
   "cell_type": "code",
   "execution_count": 187,
   "metadata": {
    "scrolled": true
   },
   "outputs": [
    {
     "data": {
      "text/plain": [
       "[(3,\n",
       "  3,\n",
       "  'Citywest Pet Boarding/sitting',\n",
       "  'citywest@petbnb',\n",
       "  '0897784213',\n",
       "  'ireland',\n",
       "  'Dublin',\n",
       "  'Dublin 14',\n",
       "  '9 Oakdown Rd',\n",
       "  \"I have been an animal lover from an early age and I grew up surrounded by pets.\\r\\nI don't own pets currently.\\r\\nI am a college student and because of covid I'll be spending the majority of my time at home where I can provide the TLC your pet deserves.\\r\\nI love spending time with pets, playing, walking, training and taking care of them.\",\n",
       "  10,\n",
       "  '',\n",
       "  2,\n",
       "  \"['dog', 'cat', 'other']\",\n",
       "  \"['1-5kg', '6-10kg']\",\n",
       "  'apartment',\n",
       "  'none',\n",
       "  0,\n",
       "  0),\n",
       " (4,\n",
       "  3,\n",
       "  \"Charlie's Den\",\n",
       "  'charlie@petbnb',\n",
       "  '0861522456',\n",
       "  'ireland',\n",
       "  'Dublin',\n",
       "  'Dublin 11',\n",
       "  '32 Collins Pl, Finglas East',\n",
       "  \"I love animals and have a dog of my own (Charlie Brown). I've grown up with dogs and cant live without them really. I can guarantee that your dog will be well cared for , walked and given the attention they deserve. I want to make them feel right at home here with Charlie while being looked after. Charlie doesn't like cuddles so there's lots of free cuddles to go around for your pet while they're missing you:)\",\n",
       "  20,\n",
       "  \"['dogwalking', 'daycare', 'delivery']\",\n",
       "  4,\n",
       "  \"['dog', 'cat']\",\n",
       "  \"['1-5kg', '6-10kg', '11-20kg', '21-40kg', '41kg+']\",\n",
       "  'detached',\n",
       "  'medium',\n",
       "  1,\n",
       "  0)]"
      ]
     },
     "execution_count": 187,
     "metadata": {},
     "output_type": "execute_result"
    }
   ],
   "source": [
    "p.page(1).object_list"
   ]
  },
  {
   "cell_type": "code",
   "execution_count": 188,
   "metadata": {},
   "outputs": [
    {
     "data": {
      "text/plain": [
       "[(7,\n",
       "  3,\n",
       "  \"Joey' S Dog Homecare\",\n",
       "  'joey@petcare',\n",
       "  '0874568845',\n",
       "  'ireland',\n",
       "  'Dublin',\n",
       "  'Lucan',\n",
       "  '8 Elm Way',\n",
       "  'I m a school teacher, so I m home all the time at summer or weekend, after summer I only work in the morning, so I can suply plenty quality time with dogs, walk, free run dog park beside my home. Gardening together, I write for magzine and website, dogs always with me, they free to come in and go out any time they want, dog will be open. I have cctv camera for back garden, even when get out for food shopping, I can see them any where on my phone.',\n",
       "  20,\n",
       "  \"['dogwalking', 'daycare', 'delivery']\",\n",
       "  8,\n",
       "  \"['dog', 'cat']\",\n",
       "  \"['1-5kg', '6-10kg', '11-20kg']\",\n",
       "  'apartment',\n",
       "  'none',\n",
       "  0,\n",
       "  0),\n",
       " (8,\n",
       "  3,\n",
       "  'Small Dog Boarding',\n",
       "  'erika@petcare',\n",
       "  '083445689',\n",
       "  'ireland',\n",
       "  'Dublin',\n",
       "  'Dublin 6',\n",
       "  '48 Leeson Park',\n",
       "  \"I grew up around dogs and I love spending time with them\\r\\nI have a 1 year old Morkie named Cookie, she's a very friendly and kind dog\\r\\nI work from home and can spend quality time with your pet all day. I will walk them, play with them, try and teach some new tricks and will make sure myself and Cookie have a bond with your dog from the very first minute\\r\\nI enjoy spending time with dogs and love when they interact with me\",\n",
       "  15,\n",
       "  \"['dogwalking']\",\n",
       "  0,\n",
       "  \"['dog']\",\n",
       "  \"['1-5kg', '6-10kg']\",\n",
       "  'apartment',\n",
       "  'none',\n",
       "  0,\n",
       "  0)]"
      ]
     },
     "execution_count": 188,
     "metadata": {},
     "output_type": "execute_result"
    }
   ],
   "source": [
    "p.page(2).object_list"
   ]
  },
  {
   "cell_type": "code",
   "execution_count": 200,
   "metadata": {},
   "outputs": [],
   "source": [
    "page_obj=p.page(1)"
   ]
  },
  {
   "cell_type": "code",
   "execution_count": 191,
   "metadata": {},
   "outputs": [],
   "source": [
    "from django.views.generic import ListView"
   ]
  },
  {
   "cell_type": "code",
   "execution_count": 201,
   "metadata": {},
   "outputs": [
    {
     "data": {
      "text/plain": [
       "<bound method Page.has_next of <Page 1 of 2>>"
      ]
     },
     "execution_count": 201,
     "metadata": {},
     "output_type": "execute_result"
    }
   ],
   "source": [
    "page_obj.has_next"
   ]
  },
  {
   "cell_type": "code",
   "execution_count": 211,
   "metadata": {},
   "outputs": [],
   "source": [
    "petsittername = \"Leixlip Boarding Services\""
   ]
  },
  {
   "cell_type": "code",
   "execution_count": 213,
   "metadata": {},
   "outputs": [],
   "source": [
    "with DBcm.UseDatabase(connection) as cursor:\n",
    "        SQL = \"\"\"SELECT * FROM petsitter WHERE petsittername = %s limit 1\"\"\"\n",
    "        cursor.execute(SQL, (petsittername,),)\n",
    "        data = cursor.fetchall()"
   ]
  },
  {
   "cell_type": "code",
   "execution_count": 214,
   "metadata": {},
   "outputs": [
    {
     "data": {
      "text/plain": [
       "[(1,\n",
       "  3,\n",
       "  'Leixlip Boarding Services',\n",
       "  'lexilipservices@petbnb',\n",
       "  '0872233441',\n",
       "  'ireland',\n",
       "  'Kildare',\n",
       "  'Leixlip',\n",
       "  '113 Oaklawn W',\n",
       "  'I have been a dog owner for over 20 years and enjoy every moment of it the company the fun on all the walks and hikes I do with my dog\\r\\nI own a German shepherd cross who I walk daily and play with daily as well she is 3 and half years old going on 6 months she make me laugh when she doesn’t get her way the diva definitely comes out\\r\\nI am very flexible and very responsible when I’m out with my own dog and other dogs I walk I make such they get a great amount of exercise but physical and mental\\r\\nEverything because I also run my own business as well which allows me to spend plenty of time when I am looking after my own dog and other dogs',\n",
       "  15,\n",
       "  \"['dogwalking', 'daycare', 'delivery']\",\n",
       "  8,\n",
       "  \"['dog', 'cat', 'other']\",\n",
       "  \"['1-5kg', '6-10kg', '11-20kg', '21-40kg', '41kg+']\",\n",
       "  'detached',\n",
       "  'large',\n",
       "  1,\n",
       "  0)]"
      ]
     },
     "execution_count": 214,
     "metadata": {},
     "output_type": "execute_result"
    }
   ],
   "source": [
    "data"
   ]
  },
  {
   "cell_type": "code",
   "execution_count": 49,
   "metadata": {},
   "outputs": [],
   "source": [
    "service = \"['dogwalking', 'daycare', 'delivery']\""
   ]
  },
  {
   "cell_type": "code",
   "execution_count": 50,
   "metadata": {},
   "outputs": [
    {
     "data": {
      "text/plain": [
       "\"['dogwalking', 'daycare', 'delivery']\""
      ]
     },
     "execution_count": 50,
     "metadata": {},
     "output_type": "execute_result"
    }
   ],
   "source": [
    "service"
   ]
  },
  {
   "cell_type": "code",
   "execution_count": 27,
   "metadata": {
    "scrolled": true
   },
   "outputs": [
    {
     "data": {
      "text/plain": [
       "37"
      ]
     },
     "execution_count": 27,
     "metadata": {},
     "output_type": "execute_result"
    }
   ],
   "source": [
    "len(service)"
   ]
  },
  {
   "cell_type": "code",
   "execution_count": 66,
   "metadata": {},
   "outputs": [
    {
     "name": "stdout",
     "output_type": "stream",
     "text": [
      "36\n"
     ]
    }
   ],
   "source": [
    "if 36 == len(service)-1:\n",
    "    print (len(service)-1)"
   ]
  },
  {
   "cell_type": "code",
   "execution_count": 44,
   "metadata": {},
   "outputs": [
    {
     "data": {
      "text/plain": [
       "']'"
      ]
     },
     "execution_count": 44,
     "metadata": {},
     "output_type": "execute_result"
    }
   ],
   "source": [
    "service[36]"
   ]
  },
  {
   "cell_type": "code",
   "execution_count": 110,
   "metadata": {},
   "outputs": [],
   "source": [
    "service = \"['dogwalking', 'daycare', 'delivery']\"\n",
    "i = 2\n",
    "servicelist = [] \n",
    "newstring =\"\"\n",
    "while i != len(service):\n",
    "    if i == len(service)-2:\n",
    "            servicelist.append(newstring)\n",
    "    elif service[i] == \"'\" and service[i+1] == \",\" and service[i+2] == \" \" and service[i+3] == \"'\":\n",
    "        servicelist.append(newstring)\n",
    "        newstring = \"\"\n",
    "        i = i+3\n",
    "    else:\n",
    "        newstring += service[i]\n",
    "        \n",
    "    i = i+1\n",
    "    \n"
   ]
  },
  {
   "cell_type": "code",
   "execution_count": 111,
   "metadata": {
    "scrolled": true
   },
   "outputs": [
    {
     "data": {
      "text/plain": [
       "['dogwalking', 'daycare', 'delivery']"
      ]
     },
     "execution_count": 111,
     "metadata": {},
     "output_type": "execute_result"
    }
   ],
   "source": [
    "servicelist"
   ]
  },
  {
   "cell_type": "code",
   "execution_count": 14,
   "metadata": {},
   "outputs": [],
   "source": [
    "i = 0\n",
    "servicelist = [] \n",
    "newstring =\"\"\n",
    "while service != \"\":\n",
    "    if service[i] != \"[\" or service[i] != \"]\" or service[i] != \"'\":\n",
    "        if service[i] != \",\":\n",
    "            newstring += service[i]\n",
    "        else: \n",
    "            servicelist.append(newstring)\n",
    "            newstring = \"\"\n",
    "    i = i+1\n",
    "    "
   ]
  },
  {
   "cell_type": "code",
   "execution_count": 7,
   "metadata": {},
   "outputs": [],
   "source": [
    "newstr =\"abc\""
   ]
  },
  {
   "cell_type": "code",
   "execution_count": 8,
   "metadata": {},
   "outputs": [],
   "source": [
    "newlist.append(newstr)"
   ]
  },
  {
   "cell_type": "code",
   "execution_count": 9,
   "metadata": {},
   "outputs": [
    {
     "data": {
      "text/plain": [
       "['abc']"
      ]
     },
     "execution_count": 9,
     "metadata": {},
     "output_type": "execute_result"
    }
   ],
   "source": [
    "newlist"
   ]
  },
  {
   "cell_type": "code",
   "execution_count": 4,
   "metadata": {},
   "outputs": [],
   "source": [
    "email=\"c00223421@itcarlow.ie\""
   ]
  },
  {
   "cell_type": "code",
   "execution_count": 14,
   "metadata": {},
   "outputs": [],
   "source": [
    "with DBcm.UseDatabase(connection) as cursor:\n",
    "            SQL = \"\"\"SELECT email, fname, sname, title, contactNumber FROM customer WHERE email = %s\"\"\"\n",
    "            cursor.execute(SQL, (email,),)\n",
    "            data = cursor.fetchall()"
   ]
  },
  {
   "cell_type": "code",
   "execution_count": 15,
   "metadata": {},
   "outputs": [
    {
     "data": {
      "text/plain": [
       "[('c00223421@itcarlow.ie', 'Chi Ieong', 'Ng', 'Mr', '353834108800')]"
      ]
     },
     "execution_count": 15,
     "metadata": {},
     "output_type": "execute_result"
    }
   ],
   "source": [
    "data"
   ]
  },
  {
   "cell_type": "code",
   "execution_count": 25,
   "metadata": {},
   "outputs": [],
   "source": [
    "from datetime import datetime"
   ]
  },
  {
   "cell_type": "code",
   "execution_count": 13,
   "metadata": {},
   "outputs": [
    {
     "data": {
      "text/plain": [
       "'2021-05-05T21:14'"
      ]
     },
     "execution_count": 13,
     "metadata": {},
     "output_type": "execute_result"
    }
   ],
   "source": [
    "datetime.today().strftime('%Y-%m-%dT%H:%M')"
   ]
  },
  {
   "cell_type": "code",
   "execution_count": 14,
   "metadata": {},
   "outputs": [],
   "source": [
    "today = datetime.today().strftime('%Y-%m-%d')"
   ]
  },
  {
   "cell_type": "code",
   "execution_count": 15,
   "metadata": {},
   "outputs": [
    {
     "data": {
      "text/plain": [
       "'2021-05-05'"
      ]
     },
     "execution_count": 15,
     "metadata": {},
     "output_type": "execute_result"
    }
   ],
   "source": [
    "today"
   ]
  },
  {
   "cell_type": "code",
   "execution_count": 19,
   "metadata": {},
   "outputs": [],
   "source": [
    "year = int(today[0])*1000 +  int(today[1])*100 +  int(today[2])*10 +  int(today[3])"
   ]
  },
  {
   "cell_type": "code",
   "execution_count": 21,
   "metadata": {},
   "outputs": [],
   "source": [
    "year += 1"
   ]
  },
  {
   "cell_type": "code",
   "execution_count": 22,
   "metadata": {
    "scrolled": true
   },
   "outputs": [
    {
     "data": {
      "text/plain": [
       "2022"
      ]
     },
     "execution_count": 22,
     "metadata": {},
     "output_type": "execute_result"
    }
   ],
   "source": [
    "year"
   ]
  },
  {
   "cell_type": "code",
   "execution_count": 23,
   "metadata": {},
   "outputs": [],
   "source": [
    "from datetime import date"
   ]
  },
  {
   "cell_type": "code",
   "execution_count": 26,
   "metadata": {
    "scrolled": true
   },
   "outputs": [],
   "source": [
    "a_date = datetime.today().strftime('%Y-%m-%d')"
   ]
  },
  {
   "cell_type": "code",
   "execution_count": 66,
   "metadata": {},
   "outputs": [],
   "source": [
    "year = int(a_date[0:4])"
   ]
  },
  {
   "cell_type": "code",
   "execution_count": 67,
   "metadata": {},
   "outputs": [],
   "source": [
    "month = int(a_date[5:7])"
   ]
  },
  {
   "cell_type": "code",
   "execution_count": 65,
   "metadata": {},
   "outputs": [],
   "source": [
    "day = int(a_date[8:10])"
   ]
  },
  {
   "cell_type": "code",
   "execution_count": 68,
   "metadata": {},
   "outputs": [],
   "source": [
    "checkin = date(year,month,day)"
   ]
  },
  {
   "cell_type": "code",
   "execution_count": 69,
   "metadata": {},
   "outputs": [],
   "source": [
    "checkout = date(2021,6,20)"
   ]
  },
  {
   "cell_type": "code",
   "execution_count": 70,
   "metadata": {},
   "outputs": [],
   "source": [
    "days = checkout - checkin"
   ]
  },
  {
   "cell_type": "code",
   "execution_count": 72,
   "metadata": {},
   "outputs": [
    {
     "data": {
      "text/plain": [
       "46"
      ]
     },
     "execution_count": 72,
     "metadata": {},
     "output_type": "execute_result"
    }
   ],
   "source": [
    "days.days"
   ]
  },
  {
   "cell_type": "code",
   "execution_count": 73,
   "metadata": {},
   "outputs": [],
   "source": [
    "newlist = [\"A\",\"B\",\"C\"]"
   ]
  },
  {
   "cell_type": "code",
   "execution_count": 80,
   "metadata": {
    "scrolled": true
   },
   "outputs": [
    {
     "name": "stdout",
     "output_type": "stream",
     "text": [
      "A\n",
      "C\n",
      "B\n",
      "C\n",
      "C\n",
      "C\n"
     ]
    }
   ],
   "source": [
    "for row in newlist:\n",
    "    print (row)\n",
    "    print (newlist[-1])"
   ]
  },
  {
   "cell_type": "code",
   "execution_count": 81,
   "metadata": {},
   "outputs": [],
   "source": [
    "user = \"c00223421@itcarlow.ie\""
   ]
  },
  {
   "cell_type": "code",
   "execution_count": 82,
   "metadata": {},
   "outputs": [],
   "source": [
    "with DBcm.UseDatabase(connection) as cursor:\n",
    "     SQL = \"\"\"SELECT id FROM customer WHERE email = %s\"\"\"\n",
    "     cursor.execute(SQL,(user,),)\n",
    "     return_data = cursor.fetchall()"
   ]
  },
  {
   "cell_type": "code",
   "execution_count": 84,
   "metadata": {
    "scrolled": false
   },
   "outputs": [
    {
     "data": {
      "text/plain": [
       "1"
      ]
     },
     "execution_count": 84,
     "metadata": {},
     "output_type": "execute_result"
    }
   ],
   "source": [
    "return_data[0][0]"
   ]
  },
  {
   "cell_type": "code",
   "execution_count": 86,
   "metadata": {},
   "outputs": [],
   "source": [
    "from random import seed"
   ]
  },
  {
   "cell_type": "code",
   "execution_count": 87,
   "metadata": {},
   "outputs": [],
   "source": [
    "from random import randint"
   ]
  },
  {
   "cell_type": "code",
   "execution_count": 90,
   "metadata": {
    "scrolled": true
   },
   "outputs": [
    {
     "data": {
      "text/plain": [
       "2192"
      ]
     },
     "execution_count": 90,
     "metadata": {},
     "output_type": "execute_result"
    }
   ],
   "source": [
    "randint(0,9999)"
   ]
  },
  {
   "cell_type": "code",
   "execution_count": 97,
   "metadata": {},
   "outputs": [],
   "source": [
    "customerid = 1"
   ]
  },
  {
   "cell_type": "code",
   "execution_count": 146,
   "metadata": {},
   "outputs": [],
   "source": [
    "with DBcm.UseDatabase(connection) as cursor:\n",
    "    SQL = \"\"\"SELECT \n",
    "    booking.bookingRef,\n",
    "    booking.petsitterID, \n",
    "    booking.status,\n",
    "    booking.title,\n",
    "    booking.fname,\n",
    "    booking.sname,\n",
    "    booking.phone,\n",
    "    booking.email,\n",
    "    booking.startDate,\n",
    "    booking.endDate,\n",
    "    booking.totalPrice,\n",
    "    booking.petQunatity,\n",
    "    booking.typeOfPet,\n",
    "    booking.breed,\n",
    "    booking.note,\n",
    "    booking.createdBy,\n",
    "    petsitter.petsittername,\n",
    "    petsitter.country,\n",
    "    petsitter.city,\n",
    "    petsitter.town,\n",
    "    petsitter.address\n",
    "    FROM booking\n",
    "    INNER JOIN petsitter ON (booking.petsitterID = petsitter.id)\n",
    "    WHERE booking.customerID = %s\"\"\"\n",
    "    cursor.execute(SQL, (customerid,),)\n",
    "    data = cursor.fetchall()"
   ]
  },
  {
   "cell_type": "code",
   "execution_count": 147,
   "metadata": {},
   "outputs": [
    {
     "data": {
      "text/plain": [
       "[('PETBNB00202105060405329397',\n",
       "  8,\n",
       "  'Pending',\n",
       "  'Mr',\n",
       "  'Chi Ieong',\n",
       "  'Ng',\n",
       "  '',\n",
       "  'c00223421@itcarlow.ie',\n",
       "  datetime.date(2021, 5, 6),\n",
       "  datetime.date(2021, 5, 14),\n",
       "  '240',\n",
       "  2,\n",
       "  \"['dog']\",\n",
       "  '',\n",
       "  '',\n",
       "  datetime.datetime(2021, 5, 6, 4, 5, 32),\n",
       "  'Small Dog Boarding',\n",
       "  'ireland',\n",
       "  'Dublin',\n",
       "  'Dublin 6',\n",
       "  '48 Leeson Park'),\n",
       " ('PETBNB00202105060607227031',\n",
       "  9,\n",
       "  'Pending',\n",
       "  'Mr',\n",
       "  'Chi Ieong',\n",
       "  'Ng',\n",
       "  '353834108800',\n",
       "  'c00223421@itcarlow.ie',\n",
       "  datetime.date(2021, 5, 14),\n",
       "  datetime.date(2021, 5, 21),\n",
       "  '420',\n",
       "  2,\n",
       "  \"['dog', 'cat']\",\n",
       "  '',\n",
       "  '',\n",
       "  datetime.datetime(2021, 5, 6, 6, 7, 22),\n",
       "  'Katie’s Pet Boarding',\n",
       "  'ireland',\n",
       "  'Wexford',\n",
       "  'Caim',\n",
       "  \"4 St John's Terrace\"),\n",
       " ('PETBNB00202105060614581414',\n",
       "  7,\n",
       "  'Pending',\n",
       "  'Mr',\n",
       "  'Chi Ieong',\n",
       "  'Ng',\n",
       "  '353834108800',\n",
       "  'c00223421@itcarlow.ie',\n",
       "  datetime.date(2021, 5, 11),\n",
       "  datetime.date(2021, 5, 19),\n",
       "  '320',\n",
       "  2,\n",
       "  \"['dog', 'cat']\",\n",
       "  '',\n",
       "  '',\n",
       "  datetime.datetime(2021, 5, 6, 6, 14, 58),\n",
       "  \"Joey' S Dog Homecare\",\n",
       "  'ireland',\n",
       "  'Dublin',\n",
       "  'Lucan',\n",
       "  '8 Elm Way')]"
      ]
     },
     "execution_count": 147,
     "metadata": {},
     "output_type": "execute_result"
    }
   ],
   "source": [
    "data"
   ]
  },
  {
   "cell_type": "code",
   "execution_count": 148,
   "metadata": {},
   "outputs": [],
   "source": [
    "ref = \"PETBNB00202105060614581414\""
   ]
  },
  {
   "cell_type": "code",
   "execution_count": 151,
   "metadata": {},
   "outputs": [],
   "source": [
    "with DBcm.UseDatabase(connection) as cursor:\n",
    "            SQL = \"\"\"SELECT \n",
    "                     booking.status,\n",
    "                     booking.title,\n",
    "                     booking.fname,\n",
    "                     booking.sname,\n",
    "                     booking.phone,\n",
    "                     booking.email,\n",
    "                     booking.startDate,\n",
    "                     booking.endDate,\n",
    "                     booking.totalPrice,\n",
    "                     booking.paymentMethod,\n",
    "                     booking.petQunatity,\n",
    "                     booking.typeOfPet,\n",
    "                     booking.breed,\n",
    "                     booking.note,\n",
    "                     booking.createdBy,\n",
    "                     petsitter.petsittername,\n",
    "                     petsitter.email,\n",
    "                     petsitter.phone,\n",
    "                     petsitter.country,\n",
    "                     petsitter.city,\n",
    "                     petsitter.town,\n",
    "                     petsitter.address\n",
    "                     FROM booking\n",
    "                     INNER JOIN petsitter ON (booking.petsitterID = petsitter.id)\n",
    "                     WHERE booking.bookingRef = %s LIMIT 1\"\"\"\n",
    "            cursor.execute(SQL, (ref,),)\n",
    "            data = cursor.fetchall()"
   ]
  },
  {
   "cell_type": "code",
   "execution_count": 152,
   "metadata": {
    "scrolled": true
   },
   "outputs": [
    {
     "data": {
      "text/plain": [
       "[('Pending',\n",
       "  'Mr',\n",
       "  'Chi Ieong',\n",
       "  'Ng',\n",
       "  '353834108800',\n",
       "  'c00223421@itcarlow.ie',\n",
       "  datetime.date(2021, 5, 11),\n",
       "  datetime.date(2021, 5, 19),\n",
       "  '320',\n",
       "  None,\n",
       "  2,\n",
       "  \"['dog', 'cat']\",\n",
       "  '',\n",
       "  '',\n",
       "  datetime.datetime(2021, 5, 6, 6, 14, 58),\n",
       "  \"Joey' S Dog Homecare\",\n",
       "  'joey@petcare',\n",
       "  '0874568845',\n",
       "  'ireland',\n",
       "  'Dublin',\n",
       "  'Lucan',\n",
       "  '8 Elm Way')]"
      ]
     },
     "execution_count": 152,
     "metadata": {},
     "output_type": "execute_result"
    }
   ],
   "source": [
    "data"
   ]
  },
  {
   "cell_type": "code",
   "execution_count": 7,
   "metadata": {},
   "outputs": [],
   "source": [
    "payment = \"300\""
   ]
  },
  {
   "cell_type": "code",
   "execution_count": 8,
   "metadata": {},
   "outputs": [],
   "source": [
    "from decimal import *"
   ]
  },
  {
   "cell_type": "code",
   "execution_count": 16,
   "metadata": {},
   "outputs": [
    {
     "data": {
      "text/plain": [
       "'300.00'"
      ]
     },
     "execution_count": 16,
     "metadata": {},
     "output_type": "execute_result"
    }
   ],
   "source": [
    "str(\"{:.2f}\".format(float(payment)))"
   ]
  },
  {
   "cell_type": "code",
   "execution_count": 17,
   "metadata": {},
   "outputs": [],
   "source": [
    "newlist = ['Successfully created transaction with Transaction ID: 40064835361', 'Transaction Response Code: 1', 'Message Code: 1', 'Description: This transaction has been approved.']"
   ]
  },
  {
   "cell_type": "code",
   "execution_count": 18,
   "metadata": {},
   "outputs": [
    {
     "data": {
      "text/plain": [
       "'Successfully created transaction with Transaction ID: 40064835361'"
      ]
     },
     "execution_count": 18,
     "metadata": {},
     "output_type": "execute_result"
    }
   ],
   "source": [
    "newlist[0]"
   ]
  },
  {
   "cell_type": "code",
   "execution_count": 19,
   "metadata": {
    "scrolled": true
   },
   "outputs": [
    {
     "data": {
      "text/plain": [
       "'4006483536'"
      ]
     },
     "execution_count": 19,
     "metadata": {},
     "output_type": "execute_result"
    }
   ],
   "source": [
    "newlist[0][-11:-1]"
   ]
  },
  {
   "cell_type": "code",
   "execution_count": 27,
   "metadata": {},
   "outputs": [],
   "source": [
    "createdBy = datetime.today().strftime('%Y-%m-%d %H:%M:%S')"
   ]
  },
  {
   "cell_type": "code",
   "execution_count": 28,
   "metadata": {},
   "outputs": [],
   "source": [
    "transactionID = \"40064850987\""
   ]
  },
  {
   "cell_type": "code",
   "execution_count": 29,
   "metadata": {},
   "outputs": [],
   "source": [
    "bookingRef = \"PETBNB00202105071453322152\""
   ]
  },
  {
   "cell_type": "code",
   "execution_count": 34,
   "metadata": {},
   "outputs": [],
   "source": [
    "with DBcm.UseDatabase(connection) as cursor:\n",
    "            SQL = \"\"\"INSERT INTO payment (\n",
    "                    transactionID,\n",
    "                    bookingRef,\n",
    "                    createdBy,\n",
    "                    canceled\n",
    "                    ) VALUES (\n",
    "                    %s,%s,%s,0 \n",
    "                    )        \n",
    "                    \"\"\"\n",
    "            cursor.execute(SQL, (transactionID, bookingRef, createdBy,),)"
   ]
  },
  {
   "cell_type": "code",
   "execution_count": 6,
   "metadata": {},
   "outputs": [],
   "source": [
    "petsittername = \"Leixlip Boarding Services\""
   ]
  },
  {
   "cell_type": "code",
   "execution_count": 25,
   "metadata": {
    "scrolled": true
   },
   "outputs": [],
   "source": [
    "data = view_petsitter_data(petsittername)"
   ]
  },
  {
   "cell_type": "code",
   "execution_count": 36,
   "metadata": {},
   "outputs": [
    {
     "ename": "IndexError",
     "evalue": "tuple index out of range",
     "output_type": "error",
     "traceback": [
      "\u001b[1;31m---------------------------------------------------------------------------\u001b[0m",
      "\u001b[1;31mIndexError\u001b[0m                                Traceback (most recent call last)",
      "\u001b[1;32m<ipython-input-36-d4eac3404056>\u001b[0m in \u001b[0;36m<module>\u001b[1;34m\u001b[0m\n\u001b[1;32m----> 1\u001b[1;33m \u001b[0mdata\u001b[0m\u001b[1;33m[\u001b[0m\u001b[1;36m0\u001b[0m\u001b[1;33m]\u001b[0m\u001b[1;33m[\u001b[0m\u001b[1;36m19\u001b[0m\u001b[1;33m]\u001b[0m\u001b[1;33m\u001b[0m\u001b[1;33m\u001b[0m\u001b[0m\n\u001b[0m",
      "\u001b[1;31mIndexError\u001b[0m: tuple index out of range"
     ]
    }
   ],
   "source": [
    "data[0][19]"
   ]
  },
  {
   "cell_type": "code",
   "execution_count": 11,
   "metadata": {},
   "outputs": [],
   "source": [
    "import os.path\n",
    "from os import path"
   ]
  },
  {
   "cell_type": "code",
   "execution_count": 13,
   "metadata": {},
   "outputs": [
    {
     "data": {
      "text/plain": [
       "True"
      ]
     },
     "execution_count": 13,
     "metadata": {},
     "output_type": "execute_result"
    }
   ],
   "source": [
    "path.exists(\"static/images/petsitter.png\")"
   ]
  },
  {
   "cell_type": "code",
   "execution_count": 22,
   "metadata": {},
   "outputs": [
    {
     "data": {
      "text/plain": [
       "'dublin'"
      ]
     },
     "execution_count": 22,
     "metadata": {},
     "output_type": "execute_result"
    }
   ],
   "source": [
    "data"
   ]
  },
  {
   "cell_type": "code",
   "execution_count": 46,
   "metadata": {},
   "outputs": [],
   "source": [
    "data = {\n",
    "    \"location\": \"dublin\",\n",
    "}"
   ]
  },
  {
   "cell_type": "code",
   "execution_count": 47,
   "metadata": {},
   "outputs": [
    {
     "data": {
      "text/plain": [
       "[(4,\n",
       "  3,\n",
       "  \"Charlie's Den\",\n",
       "  'charlie@petbnb',\n",
       "  '0861522456',\n",
       "  'ireland',\n",
       "  'Dublin',\n",
       "  'Dublin 11',\n",
       "  '32 Collins Pl, Finglas East',\n",
       "  \"I love animals and have a dog of my own (Charlie Brown). I've grown up with dogs and cant live without them really. I can guarantee that your dog will be well cared for , walked and given the attention they deserve. I want to make them feel right at home here with Charlie while being looked after. Charlie doesn't like cuddles so there's lots of free cuddles to go around for your pet while they're missing you:)\",\n",
       "  20,\n",
       "  \"['dogwalking', 'daycare', 'delivery']\",\n",
       "  4,\n",
       "  \"['dog', 'cat']\",\n",
       "  \"['1-5kg', '6-10kg', '11-20kg', '21-40kg', '41kg+']\",\n",
       "  'detached',\n",
       "  'medium',\n",
       "  1,\n",
       "  0),\n",
       " (7,\n",
       "  3,\n",
       "  \"Joey' S Dog Homecare\",\n",
       "  'joey@petcare',\n",
       "  '0874568845',\n",
       "  'ireland',\n",
       "  'Dublin',\n",
       "  'Lucan',\n",
       "  '8 Elm Way',\n",
       "  'I m a school teacher, so I m home all the time at summer or weekend, after summer I only work in the morning, so I can suply plenty quality time with dogs, walk, free run dog park beside my home. Gardening together, I write for magzine and website, dogs always with me, they free to come in and go out any time they want, dog will be open. I have cctv camera for back garden, even when get out for food shopping, I can see them any where on my phone.',\n",
       "  20,\n",
       "  \"['dogwalking', 'daycare', 'delivery']\",\n",
       "  8,\n",
       "  \"['dog', 'cat']\",\n",
       "  \"['1-5kg', '6-10kg', '11-20kg']\",\n",
       "  'apartment',\n",
       "  'none',\n",
       "  0,\n",
       "  0),\n",
       " (8,\n",
       "  3,\n",
       "  'Small Dog Boarding',\n",
       "  'erika@petcare',\n",
       "  '083445689',\n",
       "  'ireland',\n",
       "  'Dublin',\n",
       "  'Dublin 6',\n",
       "  '48 Leeson Park',\n",
       "  \"I grew up around dogs and I love spending time with them\\r\\nI have a 1 year old Morkie named Cookie, she's a very friendly and kind dog\\r\\nI work from home and can spend quality time with your pet all day. I will walk them, play with them, try and teach some new tricks and will make sure myself and Cookie have a bond with your dog from the very first minute\\r\\nI enjoy spending time with dogs and love when they interact with me\",\n",
       "  15,\n",
       "  \"['dogwalking']\",\n",
       "  0,\n",
       "  \"['dog']\",\n",
       "  \"['1-5kg', '6-10kg']\",\n",
       "  'apartment',\n",
       "  'none',\n",
       "  0,\n",
       "  0),\n",
       " (12,\n",
       "  5,\n",
       "  'Little Paws',\n",
       "  '456@123.com',\n",
       "  '0851234567',\n",
       "  'ireland',\n",
       "  'Dublin',\n",
       "  'Dublin 14',\n",
       "  '3 Ardilea Wood',\n",
       "  'hi im kiera i absolutely love all animals especially dogs ive a huge garden an park just across from me so they will hav plenty of walks ive done lots of voluntary work with the blue cross\\r\\n',\n",
       "  30,\n",
       "  \"['dogwalking', 'daycare', 'delivery']\",\n",
       "  0,\n",
       "  \"['Dog', 'Cat', 'Horse']\",\n",
       "  \"['1-5kg', '6-10kg', '11-20kg', '21-40kg', '41kg+']\",\n",
       "  'apartment',\n",
       "  'small',\n",
       "  1,\n",
       "  0)]"
      ]
     },
     "execution_count": 47,
     "metadata": {},
     "output_type": "execute_result"
    }
   ],
   "source": [
    "search_petsitter_data(data)"
   ]
  },
  {
   "cell_type": "code",
   "execution_count": 55,
   "metadata": {
    "collapsed": true
   },
   "outputs": [
    {
     "ename": "KeyError",
     "evalue": "0",
     "output_type": "error",
     "traceback": [
      "\u001b[1;31m---------------------------------------------------------------------------\u001b[0m",
      "\u001b[1;31mKeyError\u001b[0m                                  Traceback (most recent call last)",
      "\u001b[1;32m<ipython-input-55-45b767b1ab77>\u001b[0m in \u001b[0;36m<module>\u001b[1;34m\u001b[0m\n\u001b[1;32m----> 1\u001b[1;33m \u001b[0mdata\u001b[0m\u001b[1;33m[\u001b[0m\u001b[1;36m0\u001b[0m\u001b[1;33m]\u001b[0m\u001b[1;33m[\u001b[0m\u001b[1;36m0\u001b[0m\u001b[1;33m]\u001b[0m\u001b[1;33m.\u001b[0m\u001b[0mappend\u001b[0m\u001b[1;33m(\u001b[0m\u001b[1;34m\"dublin\"\u001b[0m\u001b[1;33m)\u001b[0m\u001b[1;33m\u001b[0m\u001b[1;33m\u001b[0m\u001b[0m\n\u001b[0m",
      "\u001b[1;31mKeyError\u001b[0m: 0"
     ]
    }
   ],
   "source": [
    "data[0][0].append(\"dublin\")"
   ]
  },
  {
   "cell_type": "code",
   "execution_count": 83,
   "metadata": {},
   "outputs": [],
   "source": [
    "email = \"peterpan@example.com\""
   ]
  },
  {
   "cell_type": "code",
   "execution_count": 86,
   "metadata": {},
   "outputs": [],
   "source": [
    "with DBcm.UseDatabase(connection) as cursor:\n",
    "        SQL = \"\"\"SELECT petsitter.id, petsitter.petsittername FROM petsitter\n",
    "                INNER JOIN customer ON (petsitter.customerid = customer.id)\n",
    "                WHERE customer.email = %s\n",
    "                \n",
    "                \"\"\"\n",
    "        cursor.execute(SQL, (email,),)\n",
    "        data = cursor.fetchall()"
   ]
  },
  {
   "cell_type": "code",
   "execution_count": 87,
   "metadata": {
    "scrolled": false
   },
   "outputs": [
    {
     "data": {
      "text/plain": [
       "[(1, 'Leixlip Boarding Services'),\n",
       " (2, 'Monread Dog Boarding'),\n",
       " (4, \"Charlie's Den\"),\n",
       " (5, 'Raluca Animal Boarding'),\n",
       " (6, 'Kristinas'),\n",
       " (7, \"Joey' S Dog Homecare\"),\n",
       " (8, 'Small Dog Boarding'),\n",
       " (9, 'Katie’s Pet Boarding')]"
      ]
     },
     "execution_count": 87,
     "metadata": {},
     "output_type": "execute_result"
    }
   ],
   "source": [
    "data"
   ]
  },
  {
   "cell_type": "code",
   "execution_count": 88,
   "metadata": {},
   "outputs": [],
   "source": [
    "petsittername=\"Leixlip Boarding Services\""
   ]
  },
  {
   "cell_type": "code",
   "execution_count": 92,
   "metadata": {},
   "outputs": [],
   "source": [
    "email = \"peterpan@example.com\""
   ]
  },
  {
   "cell_type": "code",
   "execution_count": 98,
   "metadata": {},
   "outputs": [],
   "source": [
    "with DBcm.UseDatabase(connection) as cursor:\n",
    "            SQL = \"\"\"SELECT petsitter.* FROM petsitter\n",
    "                    INNER JOIN customer ON (petsitter.customerid = customer.id)\n",
    "                    WHERE petsitter.petsittername = %s AND customer.email = %s\n",
    "                    \"\"\"\n",
    "            cursor.execute(SQL, (petsittername,email,),)\n",
    "            data = cursor.fetchall()"
   ]
  },
  {
   "cell_type": "code",
   "execution_count": 99,
   "metadata": {
    "scrolled": true
   },
   "outputs": [
    {
     "data": {
      "text/plain": [
       "[(1,\n",
       "  3,\n",
       "  'Leixlip Boarding Services',\n",
       "  'lexilipservices@petbnb',\n",
       "  '0872233441',\n",
       "  'ireland',\n",
       "  'Kildare',\n",
       "  'Leixlip',\n",
       "  '113 Oaklawn W',\n",
       "  'I have been a dog owner for over 20 years and enjoy every moment of it the company the fun on all the walks and hikes I do with my dog\\r\\nI own a German shepherd cross who I walk daily and play with daily as well she is 3 and half years old going on 6 months she make me laugh when she doesn’t get her way the diva definitely comes out\\r\\nI am very flexible and very responsible when I’m out with my own dog and other dogs I walk I make such they get a great amount of exercise but physical and mental\\r\\nEverything because I also run my own business as well which allows me to spend plenty of time when I am looking after my own dog and other dogs',\n",
       "  15,\n",
       "  \"['dogwalking', 'daycare', 'delivery']\",\n",
       "  8,\n",
       "  \"['dog', 'cat', 'other']\",\n",
       "  \"['1-5kg', '6-10kg', '11-20kg', '21-40kg', '41kg+']\",\n",
       "  'detached',\n",
       "  'large',\n",
       "  1,\n",
       "  0)]"
      ]
     },
     "execution_count": 99,
     "metadata": {},
     "output_type": "execute_result"
    }
   ],
   "source": [
    "data"
   ]
  },
  {
   "cell_type": "code",
   "execution_count": 100,
   "metadata": {},
   "outputs": [],
   "source": [
    "petsittername=\"Leixlip Boarding Services\""
   ]
  },
  {
   "cell_type": "code",
   "execution_count": 103,
   "metadata": {},
   "outputs": [],
   "source": [
    "with DBcm.UseDatabase(connection) as cursor:\n",
    "    SQL = \"\"\"SELECT booking.* FROM booking\n",
    "             INNER JOIN petsitter ON (booking.petSitterID = petsitter.id)\n",
    "             WHERE petsitter.petsittername = %s AND booking.deleteflag = 0\n",
    "          \"\"\"\n",
    "    cursor.execute(SQL, (petsittername,),)\n",
    "    data = cursor.fetchall()\n"
   ]
  },
  {
   "cell_type": "code",
   "execution_count": 104,
   "metadata": {},
   "outputs": [
    {
     "data": {
      "text/plain": [
       "[(9,\n",
       "  'PETBNB00202105111821515404',\n",
       "  1,\n",
       "  0,\n",
       "  'Pending',\n",
       "  'Mr',\n",
       "  'Tester',\n",
       "  'Surname',\n",
       "  '1234567',\n",
       "  '123@123.com',\n",
       "  datetime.date(2021, 5, 11),\n",
       "  datetime.date(2021, 5, 11),\n",
       "  '15',\n",
       "  None,\n",
       "  1,\n",
       "  \"['dog']\",\n",
       "  '',\n",
       "  '',\n",
       "  datetime.datetime(2021, 5, 11, 18, 21, 51),\n",
       "  0),\n",
       " (10,\n",
       "  'PETBNB00202105111823003546',\n",
       "  1,\n",
       "  0,\n",
       "  'Pending',\n",
       "  'Mr',\n",
       "  'Tester',\n",
       "  'Surname',\n",
       "  '1234567',\n",
       "  '123@123.com',\n",
       "  datetime.date(2021, 5, 11),\n",
       "  datetime.date(2021, 5, 11),\n",
       "  '15',\n",
       "  None,\n",
       "  1,\n",
       "  \"['dog']\",\n",
       "  '',\n",
       "  '',\n",
       "  datetime.datetime(2021, 5, 11, 18, 23),\n",
       "  0)]"
      ]
     },
     "execution_count": 104,
     "metadata": {},
     "output_type": "execute_result"
    }
   ],
   "source": [
    "data"
   ]
  },
  {
   "cell_type": "code",
   "execution_count": 105,
   "metadata": {},
   "outputs": [],
   "source": [
    "petsittername=\"Leixlip Boarding Services\""
   ]
  },
  {
   "cell_type": "code",
   "execution_count": 106,
   "metadata": {},
   "outputs": [],
   "source": [
    "status = \"Pending\""
   ]
  },
  {
   "cell_type": "code",
   "execution_count": 107,
   "metadata": {},
   "outputs": [],
   "source": [
    "with DBcm.UseDatabase(connection) as cursor:\n",
    "            SQL = \"\"\"SELECT COUNT(*) FROM booking\n",
    "                     INNER JOIN petsitter ON (booking.petSitterID = petsitter.id)\n",
    "                     WHERE petsitter.petsittername = %s AND booking.status = %s AND booking.deleteflag = 0\n",
    "                  \"\"\"\n",
    "            cursor.execute(SQL, (petsittername,status,),)\n",
    "            data = cursor.fetchall()"
   ]
  },
  {
   "cell_type": "code",
   "execution_count": 108,
   "metadata": {},
   "outputs": [
    {
     "data": {
      "text/plain": [
       "[(2,)]"
      ]
     },
     "execution_count": 108,
     "metadata": {},
     "output_type": "execute_result"
    }
   ],
   "source": [
    "data"
   ]
  },
  {
   "cell_type": "code",
   "execution_count": 110,
   "metadata": {},
   "outputs": [
    {
     "data": {
      "text/plain": [
       "2"
      ]
     },
     "execution_count": 110,
     "metadata": {},
     "output_type": "execute_result"
    }
   ],
   "source": [
    "data[0][0]"
   ]
  },
  {
   "cell_type": "code",
   "execution_count": 147,
   "metadata": {},
   "outputs": [],
   "source": [
    "bookingRef = \"PETBNB00202105060405329397\""
   ]
  },
  {
   "cell_type": "code",
   "execution_count": 148,
   "metadata": {},
   "outputs": [],
   "source": [
    "petsittername = \"Small Dog Boarding\""
   ]
  },
  {
   "cell_type": "code",
   "execution_count": 154,
   "metadata": {},
   "outputs": [],
   "source": [
    "email = \"\""
   ]
  },
  {
   "cell_type": "code",
   "execution_count": 157,
   "metadata": {},
   "outputs": [],
   "source": [
    "with DBcm.UseDatabase(connection) as cursor:\n",
    "            SQL = \"\"\"SELECT COUNT(*) FROM booking\n",
    "                     INNER JOIN customer ON (booking.customerID = customer.id)\n",
    "                     \n",
    "                     WHERE booking.bookingRef = %s AND customer.email = %s AND booking.deleteflag= 0\n",
    "                  \"\"\"\n",
    "            cursor.execute(SQL, (bookingRef,email, ),)\n",
    "            data = cursor.fetchall()"
   ]
  },
  {
   "cell_type": "code",
   "execution_count": 158,
   "metadata": {
    "scrolled": true
   },
   "outputs": [
    {
     "data": {
      "text/plain": [
       "[(0,)]"
      ]
     },
     "execution_count": 158,
     "metadata": {},
     "output_type": "execute_result"
    }
   ],
   "source": [
    "data"
   ]
  },
  {
   "cell_type": "code",
   "execution_count": 155,
   "metadata": {},
   "outputs": [],
   "source": [
    "with DBcm.UseDatabase(connection) as cursor:\n",
    "            SQL = \"\"\"SELECT COUNT(*) FROM booking\n",
    "                     INNER JOIN petsitter ON (booking.petSitterID = petsitter.id)\n",
    "                     INNER JOIN customer ON (petsitter.customerid = customer.id)\n",
    "                     \n",
    "                     WHERE booking.bookingRef = %s AND customer.email = %s AND petsitter.petsittername = %s AND booking.deleteflag = 0\n",
    "                  \"\"\"\n",
    "            cursor.execute(SQL, (bookingRef,email,petsittername),)\n",
    "            data = cursor.fetchall()"
   ]
  },
  {
   "cell_type": "code",
   "execution_count": 159,
   "metadata": {},
   "outputs": [
    {
     "data": {
      "text/plain": [
       "1"
      ]
     },
     "execution_count": 159,
     "metadata": {},
     "output_type": "execute_result"
    }
   ],
   "source": [
    "len(data)"
   ]
  },
  {
   "cell_type": "code",
   "execution_count": 160,
   "metadata": {},
   "outputs": [],
   "source": [
    "today = datetime.today().strftime('%Y-%m-%d')"
   ]
  },
  {
   "cell_type": "code",
   "execution_count": 161,
   "metadata": {},
   "outputs": [],
   "source": [
    "data = view_booking_by_ref_data(bookingRef)"
   ]
  },
  {
   "cell_type": "code",
   "execution_count": 173,
   "metadata": {},
   "outputs": [],
   "source": [
    "checkin = data[0][6].strftime('%Y-%m-%d')"
   ]
  },
  {
   "cell_type": "code",
   "execution_count": 167,
   "metadata": {},
   "outputs": [
    {
     "data": {
      "text/plain": [
       "'2021-05-13'"
      ]
     },
     "execution_count": 167,
     "metadata": {},
     "output_type": "execute_result"
    }
   ],
   "source": [
    "today"
   ]
  },
  {
   "cell_type": "code",
   "execution_count": 168,
   "metadata": {},
   "outputs": [],
   "source": [
    "tomorrow = '2021-5-14'"
   ]
  },
  {
   "cell_type": "code",
   "execution_count": 169,
   "metadata": {},
   "outputs": [
    {
     "data": {
      "text/plain": [
       "'2021-5-14'"
      ]
     },
     "execution_count": 169,
     "metadata": {},
     "output_type": "execute_result"
    }
   ],
   "source": [
    "tomorrow"
   ]
  },
  {
   "cell_type": "code",
   "execution_count": 174,
   "metadata": {},
   "outputs": [
    {
     "data": {
      "text/plain": [
       "'2021-05-06'"
      ]
     },
     "execution_count": 174,
     "metadata": {},
     "output_type": "execute_result"
    }
   ],
   "source": [
    "checkin"
   ]
  },
  {
   "cell_type": "code",
   "execution_count": 175,
   "metadata": {},
   "outputs": [
    {
     "name": "stdout",
     "output_type": "stream",
     "text": [
      "True\n"
     ]
    }
   ],
   "source": [
    "if today > checkin:\n",
    "    print(\"True\")\n",
    "else: print(\"False\")"
   ]
  },
  {
   "cell_type": "code",
   "execution_count": 177,
   "metadata": {},
   "outputs": [],
   "source": [
    "accessType = \"petsitter\""
   ]
  },
  {
   "cell_type": "code",
   "execution_count": 186,
   "metadata": {},
   "outputs": [],
   "source": [
    "status = \"Pending\""
   ]
  },
  {
   "cell_type": "code",
   "execution_count": 191,
   "metadata": {},
   "outputs": [],
   "source": [
    "if checkin > today:\n",
    "    if \"petsitter\" in accessType or \"customer\" in accessType:\n",
    "        if \"Pending\" in status or \"Confirmed\" in status:\n",
    "            print(\"yes\")"
   ]
  },
  {
   "cell_type": "code",
   "execution_count": 192,
   "metadata": {},
   "outputs": [
    {
     "name": "stdout",
     "output_type": "stream",
     "text": [
      "yes\n"
     ]
    }
   ],
   "source": [
    "if (checkin > today) and (\"petsitter\" in accessType or \"customer\" in accessType) and (\"Pending\" in status or \"Confirmed\" in status):\n",
    "            print(\"yes\")"
   ]
  },
  {
   "cell_type": "code",
   "execution_count": 206,
   "metadata": {},
   "outputs": [],
   "source": [
    "bookingRef = \"PETBNB00202105132037038217\""
   ]
  },
  {
   "cell_type": "code",
   "execution_count": 207,
   "metadata": {},
   "outputs": [],
   "source": [
    "status = \"Pending\""
   ]
  },
  {
   "cell_type": "code",
   "execution_count": 209,
   "metadata": {},
   "outputs": [],
   "source": [
    "with DBcm.UseDatabase(connection) as cursor:\n",
    "                SQL = \"\"\"UPDATE booking\n",
    "                         SET status = %s\n",
    "                         WHERE bookingRef = %s\n",
    "                      \"\"\"\n",
    "                cursor.execute(SQL, (status,bookingRef,),)"
   ]
  },
  {
   "cell_type": "code",
   "execution_count": 202,
   "metadata": {},
   "outputs": [],
   "source": [
    "pettype = [\"dog\",\"cat\"]"
   ]
  },
  {
   "cell_type": "code",
   "execution_count": 205,
   "metadata": {},
   "outputs": [
    {
     "name": "stdout",
     "output_type": "stream",
     "text": [
      "dog\n",
      "cat\n"
     ]
    }
   ],
   "source": [
    "for row in pettype:\n",
    "    print(row)\n",
    "    print(row)\n"
   ]
  },
  {
   "cell_type": "code",
   "execution_count": 210,
   "metadata": {},
   "outputs": [],
   "source": [
    "with DBcm.UseDatabase(connection) as cursor:\n",
    "    SQL = \"\"\"SELECT email FROM customer\"\"\"\n",
    "    cursor.execute(SQL)\n",
    "    data = cursor.fetchall()"
   ]
  },
  {
   "cell_type": "code",
   "execution_count": 211,
   "metadata": {},
   "outputs": [
    {
     "data": {
      "text/plain": [
       "[('456@123.com',),\n",
       " ('c00223421@itcarlow.ie',),\n",
       " ('cat@123.com',),\n",
       " ('peterpan@example.com',),\n",
       " ('susanbyrne@example.com',),\n",
       " ('tomhanks@example.com',)]"
      ]
     },
     "execution_count": 211,
     "metadata": {},
     "output_type": "execute_result"
    }
   ],
   "source": [
    "data"
   ]
  },
  {
   "cell_type": "code",
   "execution_count": 212,
   "metadata": {},
   "outputs": [],
   "source": [
    "import json"
   ]
  },
  {
   "cell_type": "code",
   "execution_count": 213,
   "metadata": {},
   "outputs": [],
   "source": [
    "petsittername=\"Rebecca\""
   ]
  },
  {
   "cell_type": "code",
   "execution_count": 223,
   "metadata": {},
   "outputs": [],
   "source": [
    "email = \"tester2@123.com\""
   ]
  },
  {
   "cell_type": "code",
   "execution_count": 224,
   "metadata": {},
   "outputs": [
    {
     "name": "stdout",
     "output_type": "stream",
     "text": [
      "False\n"
     ]
    }
   ],
   "source": [
    "        with DBcm.UseDatabase(connection) as cursor:\n",
    "                SQL = \"\"\"SELECT customer.id FROM customer\n",
    "                         INNER JOIN petsitter ON (petsitter.customerid = customer.id)\n",
    "                         WHERE petsitter.petsittername = %s AND customer.email = %s\"\"\"\n",
    "                cursor.execute(SQL,(petsittername,email,),)\n",
    "                data  = cursor.fetchall()\n",
    "                if len(data) == 0: print(False)\n",
    "                else: print(True)"
   ]
  },
  {
   "cell_type": "code",
   "execution_count": 263,
   "metadata": {},
   "outputs": [
    {
     "data": {
      "text/plain": [
       "[]"
      ]
     },
     "execution_count": 263,
     "metadata": {},
     "output_type": "execute_result"
    }
   ],
   "source": [
    "data"
   ]
  },
  {
   "cell_type": "code",
   "execution_count": 296,
   "metadata": {},
   "outputs": [],
   "source": [
    "        with DBcm.UseDatabase(connection) as cursor:\n",
    "                SQL = \"\"\"SELECT DISTINCT pettype FROM petsitter\"\"\"\n",
    "                cursor.execute(SQL)\n",
    "                data  = cursor.fetchall()"
   ]
  },
  {
   "cell_type": "code",
   "execution_count": 289,
   "metadata": {
    "scrolled": true
   },
   "outputs": [
    {
     "data": {
      "text/plain": [
       "[(\"['dog', 'cat', 'other']\",),\n",
       " (\"['dog']\",),\n",
       " (\"['dog', 'cat']\",),\n",
       " (\"['Dog', 'Cat', 'other', 'Horse']\",),\n",
       " (\"['Dog', 'Cat', 'Horse']\",),\n",
       " (\"['Dog', 'Cat', 'Bird', '']\",),\n",
       " (\"['Dog', 'Cat', 'Rabbit', 'Guinea Pig', 'Ferret', 'Bird', 'Reptile', '']\",)]"
      ]
     },
     "execution_count": 289,
     "metadata": {},
     "output_type": "execute_result"
    }
   ],
   "source": [
    "data"
   ]
  },
  {
   "cell_type": "code",
   "execution_count": 297,
   "metadata": {
    "scrolled": false
   },
   "outputs": [
    {
     "name": "stdout",
     "output_type": "stream",
     "text": [
      "['dog', 'cat', 'bird', 'ferret', 'guinea pig', 'horse', 'rabbit', 'reptile', 'other']\n"
     ]
    }
   ],
   "source": [
    "pettype = ['dog','cat']\n",
    "lastEle = ['other']\n",
    "newlist = []\n",
    "while len(data) > 0:\n",
    "    temp = data.pop()\n",
    "    templist = str_to_list(temp[0])\n",
    "    while len(templist) > 0:\n",
    "        tempElement = templist.pop()\n",
    "        if tempElement.lower() not in newlist and tempElement.lower() not in pettype and tempElement.lower() not in lastEle and tempElement != \"\":\n",
    "            newlist.append(tempElement.lower())\n",
    "newlist.sort()\n",
    "pettype.extend(newlist)\n",
    "pettype.extend(lastEle)\n",
    "print(pettype)\n",
    "    "
   ]
  },
  {
   "cell_type": "code",
   "execution_count": 294,
   "metadata": {},
   "outputs": [
    {
     "ename": "AttributeError",
     "evalue": "'list' object has no attribute 'upper'",
     "output_type": "error",
     "traceback": [
      "\u001b[1;31m---------------------------------------------------------------------------\u001b[0m",
      "\u001b[1;31mAttributeError\u001b[0m                            Traceback (most recent call last)",
      "\u001b[1;32m<ipython-input-294-665af63b3ee6>\u001b[0m in \u001b[0;36m<module>\u001b[1;34m\u001b[0m\n\u001b[1;32m----> 1\u001b[1;33m \u001b[0mdata\u001b[0m\u001b[1;33m.\u001b[0m\u001b[0mupper\u001b[0m\u001b[1;33m(\u001b[0m\u001b[1;33m)\u001b[0m\u001b[1;33m\u001b[0m\u001b[1;33m\u001b[0m\u001b[0m\n\u001b[0m",
      "\u001b[1;31mAttributeError\u001b[0m: 'list' object has no attribute 'upper'"
     ]
    }
   ],
   "source": [
    "data.upper()"
   ]
  },
  {
   "cell_type": "code",
   "execution_count": 281,
   "metadata": {},
   "outputs": [
    {
     "ename": "TypeError",
     "evalue": "list indices must be integers or slices, not str",
     "output_type": "error",
     "traceback": [
      "\u001b[1;31m---------------------------------------------------------------------------\u001b[0m",
      "\u001b[1;31mTypeError\u001b[0m                                 Traceback (most recent call last)",
      "\u001b[1;32m<ipython-input-281-f66c54ef923e>\u001b[0m in \u001b[0;36m<module>\u001b[1;34m\u001b[0m\n\u001b[1;32m----> 1\u001b[1;33m \u001b[0mnewlist\u001b[0m\u001b[1;33m[\u001b[0m\u001b[1;34m'DOG'\u001b[0m\u001b[1;33m]\u001b[0m\u001b[1;33m\u001b[0m\u001b[1;33m\u001b[0m\u001b[0m\n\u001b[0m",
      "\u001b[1;31mTypeError\u001b[0m: list indices must be integers or slices, not str"
     ]
    }
   ],
   "source": []
  },
  {
   "cell_type": "code",
   "execution_count": 229,
   "metadata": {},
   "outputs": [
    {
     "data": {
      "text/plain": [
       "7"
      ]
     },
     "execution_count": 229,
     "metadata": {},
     "output_type": "execute_result"
    }
   ],
   "source": [
    "len(data)"
   ]
  },
  {
   "cell_type": "code",
   "execution_count": 238,
   "metadata": {},
   "outputs": [],
   "source": [
    "newdata = data.pop()"
   ]
  },
  {
   "cell_type": "code",
   "execution_count": 244,
   "metadata": {},
   "outputs": [
    {
     "data": {
      "text/plain": [
       "(\"['Dog', 'Cat', 'Horse']\",)"
      ]
     },
     "execution_count": 244,
     "metadata": {},
     "output_type": "execute_result"
    }
   ],
   "source": [
    "newdata"
   ]
  },
  {
   "cell_type": "code",
   "execution_count": 250,
   "metadata": {},
   "outputs": [],
   "source": [
    "new = str_to_list(newdata[0])"
   ]
  },
  {
   "cell_type": "code",
   "execution_count": 251,
   "metadata": {},
   "outputs": [
    {
     "data": {
      "text/plain": [
       "['Dog', 'Cat', 'Horse']"
      ]
     },
     "execution_count": 251,
     "metadata": {},
     "output_type": "execute_result"
    }
   ],
   "source": [
    "new"
   ]
  },
  {
   "cell_type": "code",
   "execution_count": 252,
   "metadata": {},
   "outputs": [],
   "source": [
    "new1 = new.pop()"
   ]
  },
  {
   "cell_type": "code",
   "execution_count": 254,
   "metadata": {},
   "outputs": [
    {
     "data": {
      "text/plain": [
       "2"
      ]
     },
     "execution_count": 254,
     "metadata": {},
     "output_type": "execute_result"
    }
   ],
   "source": [
    "len(new)"
   ]
  },
  {
   "cell_type": "code",
   "execution_count": 253,
   "metadata": {
    "scrolled": true
   },
   "outputs": [
    {
     "data": {
      "text/plain": [
       "'Horse'"
      ]
     },
     "execution_count": 253,
     "metadata": {},
     "output_type": "execute_result"
    }
   ],
   "source": [
    "new1"
   ]
  },
  {
   "cell_type": "code",
   "execution_count": 442,
   "metadata": {},
   "outputs": [],
   "source": [
    "data = dict([('country', 'Ireland'), ('location', 'Cork'), ('numofpet', '2'), ('pettype1', 'dog'), ('pettype2', 'dog'), ('pettype3', 'dog'), ('pettype4', 'dog')])"
   ]
  },
  {
   "cell_type": "code",
   "execution_count": 416,
   "metadata": {},
   "outputs": [
    {
     "data": {
      "text/plain": [
       "'SELECT * FROM petsitter WHERE country = Ireland'"
      ]
     },
     "execution_count": 416,
     "metadata": {},
     "output_type": "execute_result"
    }
   ],
   "source": [
    "SQL"
   ]
  },
  {
   "cell_type": "code",
   "execution_count": 449,
   "metadata": {},
   "outputs": [
    {
     "name": "stdout",
     "output_type": "stream",
     "text": [
      "SELECT * FROM petsitter WHERE country = 'Ireland' AND CONCAT(petsittername,city,town,address) LIKE '%Cork%' AND petnums >= 2 AND pettype LIKE '%dog%'  AND pettype LIKE '%dog%'  AND pettype LIKE '%dog%'  AND pettype LIKE '%dog%' \n"
     ]
    }
   ],
   "source": [
    "SQL = \"\"\"SELECT * FROM petsitter WHERE country = \"\"\"\n",
    "SQL += \"'\" + data['country'] + \"'\"\n",
    "if data['location'] != '':\n",
    "    SQL += \" AND CONCAT(petsittername,city,town,address) LIKE '%\" + data['location'] +\"%' \"\n",
    "if data['numofpet'] != '':\n",
    "    SQL += \"AND petnums >= \" + data['numofpet']\n",
    "if data['pettype1'] != '':\n",
    "    SQL += \" AND pettype LIKE '%\" + data['pettype1'] + \"%' \"\n",
    "if data['pettype2'] != '':\n",
    "    SQL += \" AND pettype LIKE '%\" + data['pettype2'] + \"%' \"  \n",
    "if data['pettype3'] != '':\n",
    "    SQL += \" AND pettype LIKE '%\" + data['pettype3'] + \"%' \"\n",
    "if data['pettype4'] != '':\n",
    "    SQL += \" AND pettype LIKE '%\" + data['pettype4'] + \"%' \"\n",
    "with DBcm.UseDatabase(connection) as cursor:\n",
    "        cursor.execute(SQL)\n",
    "        return_data = cursor.fetchall()\n",
    "\n",
    "\n",
    "\n",
    "print(SQL)\n"
   ]
  },
  {
   "cell_type": "code",
   "execution_count": 447,
   "metadata": {},
   "outputs": [],
   "source": [
    "with DBcm.UseDatabase(connection) as cursor:\n",
    "        cursor.execute(SQL)\n",
    "        return_data = cursor.fetchall()"
   ]
  },
  {
   "cell_type": "code",
   "execution_count": 450,
   "metadata": {
    "scrolled": true
   },
   "outputs": [
    {
     "data": {
      "text/plain": [
       "1"
      ]
     },
     "execution_count": 450,
     "metadata": {},
     "output_type": "execute_result"
    }
   ],
   "source": [
    "len(return_data)"
   ]
  },
  {
   "cell_type": "code",
   "execution_count": 451,
   "metadata": {},
   "outputs": [],
   "source": [
    "data = view_account_data(\"c00223421@itcarlow.ie\")"
   ]
  },
  {
   "cell_type": "code",
   "execution_count": 452,
   "metadata": {},
   "outputs": [
    {
     "data": {
      "text/plain": [
       "[('Chi Ieong',\n",
       "  'Ng',\n",
       "  'Mr',\n",
       "  datetime.date(1980, 2, 13),\n",
       "  '6 Green Road, Carlow, Ireland',\n",
       "  '353834108800')]"
      ]
     },
     "execution_count": 452,
     "metadata": {},
     "output_type": "execute_result"
    }
   ],
   "source": [
    "data"
   ]
  },
  {
   "cell_type": "code",
   "execution_count": 453,
   "metadata": {},
   "outputs": [
    {
     "data": {
      "text/plain": [
       "'Mr'"
      ]
     },
     "execution_count": 453,
     "metadata": {},
     "output_type": "execute_result"
    }
   ],
   "source": [
    "data[0][2]"
   ]
  },
  {
   "cell_type": "code",
   "execution_count": 454,
   "metadata": {},
   "outputs": [
    {
     "data": {
      "text/plain": [
       "datetime.date(1980, 2, 13)"
      ]
     },
     "execution_count": 454,
     "metadata": {},
     "output_type": "execute_result"
    }
   ],
   "source": [
    "data[0][3]"
   ]
  },
  {
   "cell_type": "code",
   "execution_count": 456,
   "metadata": {},
   "outputs": [
    {
     "data": {
      "text/plain": [
       "'1980-02-13'"
      ]
     },
     "execution_count": 456,
     "metadata": {},
     "output_type": "execute_result"
    }
   ],
   "source": [
    "str(data[0][3])"
   ]
  },
  {
   "cell_type": "code",
   "execution_count": 463,
   "metadata": {},
   "outputs": [],
   "source": [
    "email = \"c00223@itcarlow.ie\""
   ]
  },
  {
   "cell_type": "code",
   "execution_count": 464,
   "metadata": {},
   "outputs": [],
   "source": [
    "with DBcm.UseDatabase(connection) as cursor:\n",
    "            SQL = \"\"\"SELECT COUNT(*) FROM customer WHERE email = %s\"\"\"\n",
    "            cursor.execute(SQL,(email,),)\n",
    "            data = cursor.fetchall()"
   ]
  },
  {
   "cell_type": "code",
   "execution_count": 465,
   "metadata": {},
   "outputs": [
    {
     "data": {
      "text/plain": [
       "0"
      ]
     },
     "execution_count": 465,
     "metadata": {},
     "output_type": "execute_result"
    }
   ],
   "source": [
    "data[0][0]"
   ]
  },
  {
   "cell_type": "code",
   "execution_count": 466,
   "metadata": {},
   "outputs": [],
   "source": [
    "petsittername = \"Leixlip Boarding Services\""
   ]
  },
  {
   "cell_type": "code",
   "execution_count": 467,
   "metadata": {},
   "outputs": [],
   "source": [
    "data = view_petsitter_data(petsittername)"
   ]
  },
  {
   "cell_type": "code",
   "execution_count": 468,
   "metadata": {},
   "outputs": [
    {
     "data": {
      "text/plain": [
       "\"['dog', 'cat', 'other']\""
      ]
     },
     "execution_count": 468,
     "metadata": {},
     "output_type": "execute_result"
    }
   ],
   "source": [
    "data[0][13]"
   ]
  },
  {
   "cell_type": "code",
   "execution_count": 470,
   "metadata": {},
   "outputs": [],
   "source": [
    "if 'dogg' in data[0][13]:\n",
    "    print(True)"
   ]
  },
  {
   "cell_type": "code",
   "execution_count": 485,
   "metadata": {},
   "outputs": [],
   "source": [
    "pettype = ['dog', 'cat', 'bird', 'ferret', '']"
   ]
  },
  {
   "cell_type": "code",
   "execution_count": 486,
   "metadata": {},
   "outputs": [
    {
     "data": {
      "text/plain": [
       "list"
      ]
     },
     "execution_count": 486,
     "metadata": {},
     "output_type": "execute_result"
    }
   ],
   "source": [
    "type(pettype)"
   ]
  },
  {
   "cell_type": "code",
   "execution_count": null,
   "metadata": {},
   "outputs": [],
   "source": [
    "pettype = format(data.getlist('type[]'))"
   ]
  },
  {
   "cell_type": "code",
   "execution_count": 484,
   "metadata": {},
   "outputs": [
    {
     "data": {
      "text/plain": [
       "['dog', 'cat', 'bird', 'ferret', '']"
      ]
     },
     "execution_count": 484,
     "metadata": {},
     "output_type": "execute_result"
    }
   ],
   "source": [
    "pettype"
   ]
  },
  {
   "cell_type": "code",
   "execution_count": 480,
   "metadata": {},
   "outputs": [],
   "source": [
    "pettype.remove('')"
   ]
  },
  {
   "cell_type": "code",
   "execution_count": 481,
   "metadata": {},
   "outputs": [
    {
     "data": {
      "text/plain": [
       "['dog', 'cat', 'bird', 'ferret']"
      ]
     },
     "execution_count": 481,
     "metadata": {},
     "output_type": "execute_result"
    }
   ],
   "source": [
    "pettype"
   ]
  },
  {
   "cell_type": "code",
   "execution_count": 477,
   "metadata": {},
   "outputs": [],
   "source": [
    "for row in pettype:\n",
    "    if row == '':\n",
    "        pettype.remove(row)"
   ]
  },
  {
   "cell_type": "code",
   "execution_count": 478,
   "metadata": {},
   "outputs": [
    {
     "data": {
      "text/plain": [
       "['dog', 'cat', 'bird', 'ferret']"
      ]
     },
     "execution_count": 478,
     "metadata": {},
     "output_type": "execute_result"
    }
   ],
   "source": [
    "pettype"
   ]
  },
  {
   "cell_type": "code",
   "execution_count": 512,
   "metadata": {},
   "outputs": [],
   "source": [
    "pettype = \"['dog', 'cat', 'bird', 'ferret', '']\""
   ]
  },
  {
   "cell_type": "code",
   "execution_count": 510,
   "metadata": {},
   "outputs": [],
   "source": [
    "pettype = pettype.replace(\", ''\",\"\")"
   ]
  },
  {
   "cell_type": "code",
   "execution_count": 511,
   "metadata": {},
   "outputs": [
    {
     "data": {
      "text/plain": [
       "\"['dog', 'cat', 'bird', 'ferret']\""
      ]
     },
     "execution_count": 511,
     "metadata": {},
     "output_type": "execute_result"
    }
   ],
   "source": [
    "pettype"
   ]
  }
 ],
 "metadata": {
  "kernelspec": {
   "display_name": "Python 3",
   "language": "python",
   "name": "python3"
  },
  "language_info": {
   "codemirror_mode": {
    "name": "ipython",
    "version": 3
   },
   "file_extension": ".py",
   "mimetype": "text/x-python",
   "name": "python",
   "nbconvert_exporter": "python",
   "pygments_lexer": "ipython3",
   "version": "3.8.7"
  }
 },
 "nbformat": 4,
 "nbformat_minor": 4
}
